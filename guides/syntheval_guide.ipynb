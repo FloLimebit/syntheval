{
 "cells": [
  {
   "cell_type": "markdown",
   "metadata": {},
   "source": [
    "# SynthEval user guide\n",
    "This notebook demonstrates how the included software is used for evaluating synthetic data.\n",
    "\n",
    "The example is based on the Palmer Archipelago penguin data from kaggle (https://www.kaggle.com/datasets/parulpandey/palmer-archipelago-antarctica-penguin-data?select=penguins_size.csv), and the synthetic version is generated using DataSynthesizer with default parameters.\n",
    "\n",
    "The current version of the code requires the following imports;"
   ]
  },
  {
   "cell_type": "code",
   "execution_count": 8,
   "metadata": {},
   "outputs": [
    {
     "ename": "ImportError",
     "evalue": "attempted relative import with no known parent package",
     "output_type": "error",
     "traceback": [
      "\u001b[1;31m---------------------------------------------------------------------------\u001b[0m",
      "\u001b[1;31mImportError\u001b[0m                               Traceback (most recent call last)",
      "Cell \u001b[1;32mIn[8], line 3\u001b[0m\n\u001b[0;32m      1\u001b[0m \u001b[39mimport\u001b[39;00m \u001b[39mpandas\u001b[39;00m \u001b[39mas\u001b[39;00m \u001b[39mpd\u001b[39;00m\n\u001b[1;32m----> 3\u001b[0m \u001b[39mfrom\u001b[39;00m \u001b[39m.\u001b[39;00m \u001b[39mimport\u001b[39;00m SynthEval\n",
      "\u001b[1;31mImportError\u001b[0m: attempted relative import with no known parent package"
     ]
    }
   ],
   "source": [
    "import pandas as pd\n",
    "\n",
    "from src.syntheval import SynthEval"
   ]
  },
  {
   "cell_type": "code",
   "execution_count": 2,
   "metadata": {},
   "outputs": [],
   "source": [
    "### First we load and prepare the data\n",
    "load_dir = 'example/'\n",
    "filename = 'penguins'\n",
    "\n",
    "target_column = 'species'                           # column to use as target for classification metrics and coloration of PCA plot.\n",
    "categorical_columns = ['species','island','sex']    # Categorical columns can be either supplied or automatically inferred using a number of unique values threshold.\n",
    "\n",
    "df_real = pd.read_csv(load_dir + filename + '_train.csv')\n",
    "df_fake = pd.read_csv(load_dir + filename + '_BN_syn.csv').round(1) # be sure to round to an appropriate number of decimals\n",
    "\n",
    "### Testing data is not required, but the usability analysis will be more complete if it is included. \n",
    "df_test = pd.read_csv(load_dir + filename + '_test.csv')"
   ]
  },
  {
   "cell_type": "markdown",
   "metadata": {},
   "source": [
    "In the first example, we show the minimalist code required to start evaluating synthetic data. "
   ]
  },
  {
   "cell_type": "code",
   "execution_count": 4,
   "metadata": {},
   "outputs": [
    {
     "name": "stdout",
     "output_type": "stream",
     "text": [
      "SynthEval: inferred categorical columns...\n",
      "SynthEval: synthetic data read successfully\n",
      "Unrecognised keyword: dwm\n",
      "Unrecognised keyword: plot_pca\n",
      "Unrecognised keyword: cio\n",
      "Unrecognised keyword: corr_diff\n",
      "Unrecognised keyword: mi_diff\n",
      "Unrecognised keyword: ks_test\n",
      "Unrecognised keyword: h_dist\n",
      "Unrecognised keyword: p_mse\n",
      "Unrecognised keyword: nndr\n",
      "Unrecognised keyword: nnaa\n",
      "Unrecognised keyword: cls_acc\n",
      "Unrecognised keyword: dcr\n",
      "Unrecognised keyword: hit_rate\n",
      "Unrecognised keyword: eps_risk\n",
      "\n",
      "SynthEval results\n",
      "=================================================================\n",
      "\n",
      "+---------------------------------------------------------------+\n",
      "+---------------------------------------------------------------+\n"
     ]
    },
    {
     "data": {
      "text/plain": [
       "{}"
      ]
     },
     "execution_count": 4,
     "metadata": {},
     "output_type": "execute_result"
    }
   ],
   "source": [
    "### First SynthEval object is created then run with the \"full_eval\" presets file.\n",
    "S = SynthEval(df_real)\n",
    "S.evaluate(df_fake,target_column,presets_file=\"F:/GitHub repositories/syntheval/src/syntheval/presets/full_eval.json\")"
   ]
  },
  {
   "cell_type": "code",
   "execution_count": null,
   "metadata": {},
   "outputs": [],
   "source": [
    "### Specify columns\n",
    "class_cat_col = ['species','island','sex']\n",
    "class_lab_col = 'species'"
   ]
  },
  {
   "cell_type": "code",
   "execution_count": null,
   "metadata": {},
   "outputs": [],
   "source": [
    "### The full version of the benchmark is run using the full_eval() method, again with a set of fake samples\n",
    "evaluator.full_eval(df_fake,class_lab_col)"
   ]
  }
 ],
 "metadata": {
  "kernelspec": {
   "display_name": "Python 3.10.8 64-bit (microsoft store)",
   "language": "python",
   "name": "python3"
  },
  "language_info": {
   "codemirror_mode": {
    "name": "ipython",
    "version": 3
   },
   "file_extension": ".py",
   "mimetype": "text/x-python",
   "name": "python",
   "nbconvert_exporter": "python",
   "pygments_lexer": "ipython3",
   "version": "3.10.11"
  },
  "orig_nbformat": 4,
  "vscode": {
   "interpreter": {
    "hash": "2c836b360a93b955bbc96fdd350730c8228408d3764a01cc7c53c66ca8069108"
   }
  }
 },
 "nbformat": 4,
 "nbformat_minor": 2
}
